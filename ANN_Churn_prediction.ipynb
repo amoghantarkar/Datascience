{
  "nbformat": 4,
  "nbformat_minor": 0,
  "metadata": {
    "colab": {
      "name": "ANN Churn prediction.ipynb",
      "provenance": [],
      "authorship_tag": "ABX9TyPkeeqqb+0nOip6SYUueHdJ",
      "include_colab_link": true
    },
    "kernelspec": {
      "name": "python3",
      "display_name": "Python 3"
    }
  },
  "cells": [
    {
      "cell_type": "markdown",
      "metadata": {
        "id": "view-in-github",
        "colab_type": "text"
      },
      "source": [
        "<a href=\"https://colab.research.google.com/github/amoghantarkar/Datascience/blob/master/ANN_Churn_prediction.ipynb\" target=\"_parent\"><img src=\"https://colab.research.google.com/assets/colab-badge.svg\" alt=\"Open In Colab\"/></a>"
      ]
    },
    {
      "cell_type": "code",
      "metadata": {
        "id": "w0LsGdlSnaLn"
      },
      "source": [
        "import numpy as np\n",
        "import pandas as pd\n",
        "import tensorflow as tf"
      ],
      "execution_count": null,
      "outputs": []
    },
    {
      "cell_type": "code",
      "metadata": {
        "colab": {
          "base_uri": "https://localhost:8080/",
          "height": 35
        },
        "id": "jK-8_MDjngEK",
        "outputId": "9f31518e-b6db-4296-e52e-355d71f9e92f"
      },
      "source": [
        "tf.__version__"
      ],
      "execution_count": null,
      "outputs": [
        {
          "output_type": "execute_result",
          "data": {
            "application/vnd.google.colaboratory.intrinsic+json": {
              "type": "string"
            },
            "text/plain": [
              "'2.3.0'"
            ]
          },
          "metadata": {
            "tags": []
          },
          "execution_count": 2
        }
      ]
    },
    {
      "cell_type": "code",
      "metadata": {
        "id": "iAk-jDuFnjPw"
      },
      "source": [
        "dataset=pd.read_csv(\"Churn_Modelling.csv\")\n",
        "x=dataset.iloc[:,3:-1].values\n",
        "y=dataset.iloc[:,-1].values"
      ],
      "execution_count": null,
      "outputs": []
    },
    {
      "cell_type": "code",
      "metadata": {
        "colab": {
          "base_uri": "https://localhost:8080/"
        },
        "id": "9Bx6A2vDo107",
        "outputId": "815b4c75-a695-4f7a-899c-d1654ae2c4d3"
      },
      "source": [
        "print(x)"
      ],
      "execution_count": null,
      "outputs": [
        {
          "output_type": "stream",
          "text": [
            "[[619 'France' 'Female' ... 1 1 101348.88]\n",
            " [608 'Spain' 'Female' ... 0 1 112542.58]\n",
            " [502 'France' 'Female' ... 1 0 113931.57]\n",
            " ...\n",
            " [709 'France' 'Female' ... 0 1 42085.58]\n",
            " [772 'Germany' 'Male' ... 1 0 92888.52]\n",
            " [792 'France' 'Female' ... 1 0 38190.78]]\n"
          ],
          "name": "stdout"
        }
      ]
    },
    {
      "cell_type": "code",
      "metadata": {
        "colab": {
          "base_uri": "https://localhost:8080/"
        },
        "id": "xjqYWYuto673",
        "outputId": "352d0150-63c3-4b77-a7ca-940349c209bb"
      },
      "source": [
        "print(y)"
      ],
      "execution_count": null,
      "outputs": [
        {
          "output_type": "stream",
          "text": [
            "[1 0 1 ... 1 1 0]\n"
          ],
          "name": "stdout"
        }
      ]
    },
    {
      "cell_type": "code",
      "metadata": {
        "id": "hF7y5TXCo713"
      },
      "source": [
        "from sklearn.preprocessing import LabelEncoder\n",
        "le = LabelEncoder()\n",
        "x[:,2] = le.fit_transform(x[:,2])"
      ],
      "execution_count": null,
      "outputs": []
    },
    {
      "cell_type": "code",
      "metadata": {
        "colab": {
          "base_uri": "https://localhost:8080/"
        },
        "id": "55PNPPHipqrW",
        "outputId": "893bb611-ad59-4774-e3c6-897ab5d6223d"
      },
      "source": [
        "print(x)"
      ],
      "execution_count": null,
      "outputs": [
        {
          "output_type": "stream",
          "text": [
            "[[619 'France' 0 ... 1 1 101348.88]\n",
            " [608 'Spain' 0 ... 0 1 112542.58]\n",
            " [502 'France' 0 ... 1 0 113931.57]\n",
            " ...\n",
            " [709 'France' 0 ... 0 1 42085.58]\n",
            " [772 'Germany' 1 ... 1 0 92888.52]\n",
            " [792 'France' 0 ... 1 0 38190.78]]\n"
          ],
          "name": "stdout"
        }
      ]
    },
    {
      "cell_type": "code",
      "metadata": {
        "id": "XqUpmMjcptAo"
      },
      "source": [
        "from sklearn.compose import ColumnTransformer\n",
        "from sklearn.preprocessing import OneHotEncoder\n",
        "ct = ColumnTransformer(transformers=[('encoder',OneHotEncoder(),[1])],remainder='passthrough')\n",
        "x=np.array(ct.fit_transform(x))\n"
      ],
      "execution_count": null,
      "outputs": []
    },
    {
      "cell_type": "code",
      "metadata": {
        "colab": {
          "base_uri": "https://localhost:8080/"
        },
        "id": "PwtTH-Q2yetN",
        "outputId": "5489516c-8d39-4246-ff46-11158a409918"
      },
      "source": [
        "print(x)"
      ],
      "execution_count": null,
      "outputs": [
        {
          "output_type": "stream",
          "text": [
            "[[1.0 0.0 0.0 ... 1 1 101348.88]\n",
            " [0.0 0.0 1.0 ... 0 1 112542.58]\n",
            " [1.0 0.0 0.0 ... 1 0 113931.57]\n",
            " ...\n",
            " [1.0 0.0 0.0 ... 0 1 42085.58]\n",
            " [0.0 1.0 0.0 ... 1 0 92888.52]\n",
            " [1.0 0.0 0.0 ... 1 0 38190.78]]\n"
          ],
          "name": "stdout"
        }
      ]
    },
    {
      "cell_type": "code",
      "metadata": {
        "id": "3BzcIZWrys1s"
      },
      "source": [
        "from sklearn.model_selection import train_test_split\n",
        "# feature scaling needed for NN\n",
        "x_train, x_test, y_train, y_test = train_test_split(x,y,test_size=0.2, random_state=0)\n",
        "\n"
      ],
      "execution_count": null,
      "outputs": []
    },
    {
      "cell_type": "code",
      "metadata": {
        "id": "yE07CHsgzK0R"
      },
      "source": [
        "from sklearn.preprocessing import StandardScaler\n",
        "sc = StandardScaler()\n",
        "x_train = sc.fit_transform(x_train) #only train. to avoid leakage\n",
        "x_test = sc.transform(x_test)"
      ],
      "execution_count": null,
      "outputs": []
    },
    {
      "cell_type": "markdown",
      "metadata": {
        "id": "Cvp_SGXDyeTL"
      },
      "source": [
        "initialize ANN, compile and train and predict\n"
      ]
    },
    {
      "cell_type": "code",
      "metadata": {
        "id": "90XzkCzlrceQ"
      },
      "source": [
        "ann = tf.keras.models.Sequential()"
      ],
      "execution_count": null,
      "outputs": []
    },
    {
      "cell_type": "code",
      "metadata": {
        "id": "2VPTx181rwoA"
      },
      "source": [
        "# DENSE LAYER class. \n",
        "# input layer comes from input file features. 1st hidden is adding dense layer with 6 neurons\n",
        "ann.add(tf.keras.layers.Dense(units=6,activation='relu')) # shallow neural network"
      ],
      "execution_count": null,
      "outputs": []
    },
    {
      "cell_type": "code",
      "metadata": {
        "id": "LwL5KgjhtnQx"
      },
      "source": [
        "#second hidden layer\n",
        "ann.add(tf.keras.layers.Dense(units=6,activation='relu'))"
      ],
      "execution_count": null,
      "outputs": []
    },
    {
      "cell_type": "code",
      "metadata": {
        "id": "OFzXzIoAuBGD"
      },
      "source": [
        "#final output layer\n",
        "ann.add(tf.keras.layers.Dense(units=1,activation='sigmoid')) # for categorical - softmax"
      ],
      "execution_count": null,
      "outputs": []
    },
    {
      "cell_type": "code",
      "metadata": {
        "id": "0s21imGxuoKJ"
      },
      "source": [
        "#compile\n",
        "# adam is shocastic gradient descent,  binary classficiation here but for categorical use categorical_crossentrophy\n",
        "ann.compile(optimizer='adam',loss='binary_crossentropy',metrics=['accuracy']) "
      ],
      "execution_count": null,
      "outputs": []
    },
    {
      "cell_type": "code",
      "metadata": {
        "colab": {
          "base_uri": "https://localhost:8080/"
        },
        "id": "Ka4mkyMawlSF",
        "outputId": "a8ff9f40-1427-4f3b-cb97-37f86ac0901b"
      },
      "source": [
        "#hyper parameter \n",
        "ann.fit(x_train, y_train, batch_size=32, epochs=100)"
      ],
      "execution_count": null,
      "outputs": [
        {
          "output_type": "stream",
          "text": [
            "Epoch 1/100\n",
            "250/250 [==============================] - 0s 976us/step - loss: 0.6711 - accuracy: 0.6348\n",
            "Epoch 2/100\n",
            "250/250 [==============================] - 0s 975us/step - loss: 0.5266 - accuracy: 0.7968\n",
            "Epoch 3/100\n",
            "250/250 [==============================] - 0s 1ms/step - loss: 0.4519 - accuracy: 0.8079\n",
            "Epoch 4/100\n",
            "250/250 [==============================] - 0s 1ms/step - loss: 0.4233 - accuracy: 0.8149\n",
            "Epoch 5/100\n",
            "250/250 [==============================] - 0s 919us/step - loss: 0.4111 - accuracy: 0.8196\n",
            "Epoch 6/100\n",
            "250/250 [==============================] - 0s 974us/step - loss: 0.4029 - accuracy: 0.8211\n",
            "Epoch 7/100\n",
            "250/250 [==============================] - 0s 979us/step - loss: 0.3958 - accuracy: 0.8257\n",
            "Epoch 8/100\n",
            "250/250 [==============================] - 0s 1ms/step - loss: 0.3891 - accuracy: 0.8294\n",
            "Epoch 9/100\n",
            "250/250 [==============================] - 0s 949us/step - loss: 0.3815 - accuracy: 0.8353\n",
            "Epoch 10/100\n",
            "250/250 [==============================] - 0s 1ms/step - loss: 0.3736 - accuracy: 0.8411\n",
            "Epoch 11/100\n",
            "250/250 [==============================] - 0s 1ms/step - loss: 0.3668 - accuracy: 0.8447\n",
            "Epoch 12/100\n",
            "250/250 [==============================] - 0s 1ms/step - loss: 0.3611 - accuracy: 0.8474\n",
            "Epoch 13/100\n",
            "250/250 [==============================] - 0s 1ms/step - loss: 0.3569 - accuracy: 0.8493\n",
            "Epoch 14/100\n",
            "250/250 [==============================] - 0s 1ms/step - loss: 0.3536 - accuracy: 0.8514\n",
            "Epoch 15/100\n",
            "250/250 [==============================] - 0s 968us/step - loss: 0.3510 - accuracy: 0.8541\n",
            "Epoch 16/100\n",
            "250/250 [==============================] - 0s 1ms/step - loss: 0.3492 - accuracy: 0.8558\n",
            "Epoch 17/100\n",
            "250/250 [==============================] - 0s 919us/step - loss: 0.3475 - accuracy: 0.8560\n",
            "Epoch 18/100\n",
            "250/250 [==============================] - 0s 932us/step - loss: 0.3463 - accuracy: 0.8574\n",
            "Epoch 19/100\n",
            "250/250 [==============================] - 0s 933us/step - loss: 0.3454 - accuracy: 0.8599\n",
            "Epoch 20/100\n",
            "250/250 [==============================] - 0s 1ms/step - loss: 0.3444 - accuracy: 0.8589\n",
            "Epoch 21/100\n",
            "250/250 [==============================] - 0s 889us/step - loss: 0.3440 - accuracy: 0.8587\n",
            "Epoch 22/100\n",
            "250/250 [==============================] - 0s 933us/step - loss: 0.3435 - accuracy: 0.8611\n",
            "Epoch 23/100\n",
            "250/250 [==============================] - 0s 1ms/step - loss: 0.3421 - accuracy: 0.8604\n",
            "Epoch 24/100\n",
            "250/250 [==============================] - 0s 979us/step - loss: 0.3426 - accuracy: 0.8599\n",
            "Epoch 25/100\n",
            "250/250 [==============================] - 0s 886us/step - loss: 0.3421 - accuracy: 0.8609\n",
            "Epoch 26/100\n",
            "250/250 [==============================] - 0s 894us/step - loss: 0.3420 - accuracy: 0.8601\n",
            "Epoch 27/100\n",
            "250/250 [==============================] - 0s 949us/step - loss: 0.3418 - accuracy: 0.8609\n",
            "Epoch 28/100\n",
            "250/250 [==============================] - 0s 1ms/step - loss: 0.3409 - accuracy: 0.8621\n",
            "Epoch 29/100\n",
            "250/250 [==============================] - 0s 1ms/step - loss: 0.3410 - accuracy: 0.8606\n",
            "Epoch 30/100\n",
            "250/250 [==============================] - 0s 909us/step - loss: 0.3408 - accuracy: 0.8609\n",
            "Epoch 31/100\n",
            "250/250 [==============================] - 0s 1ms/step - loss: 0.3400 - accuracy: 0.8611\n",
            "Epoch 32/100\n",
            "250/250 [==============================] - 0s 1ms/step - loss: 0.3402 - accuracy: 0.8601\n",
            "Epoch 33/100\n",
            "250/250 [==============================] - 0s 930us/step - loss: 0.3397 - accuracy: 0.8627\n",
            "Epoch 34/100\n",
            "250/250 [==============================] - 0s 920us/step - loss: 0.3397 - accuracy: 0.8622\n",
            "Epoch 35/100\n",
            "250/250 [==============================] - 0s 942us/step - loss: 0.3393 - accuracy: 0.8625\n",
            "Epoch 36/100\n",
            "250/250 [==============================] - 0s 955us/step - loss: 0.3390 - accuracy: 0.8608\n",
            "Epoch 37/100\n",
            "250/250 [==============================] - 0s 912us/step - loss: 0.3390 - accuracy: 0.8614\n",
            "Epoch 38/100\n",
            "250/250 [==============================] - 0s 899us/step - loss: 0.3384 - accuracy: 0.8635\n",
            "Epoch 39/100\n",
            "250/250 [==============================] - 0s 1ms/step - loss: 0.3386 - accuracy: 0.8630\n",
            "Epoch 40/100\n",
            "250/250 [==============================] - 0s 911us/step - loss: 0.3384 - accuracy: 0.8624\n",
            "Epoch 41/100\n",
            "250/250 [==============================] - 0s 997us/step - loss: 0.3380 - accuracy: 0.8624\n",
            "Epoch 42/100\n",
            "250/250 [==============================] - 0s 1ms/step - loss: 0.3381 - accuracy: 0.8634\n",
            "Epoch 43/100\n",
            "250/250 [==============================] - 0s 1ms/step - loss: 0.3379 - accuracy: 0.8636\n",
            "Epoch 44/100\n",
            "250/250 [==============================] - 0s 1ms/step - loss: 0.3374 - accuracy: 0.8645\n",
            "Epoch 45/100\n",
            "250/250 [==============================] - 0s 913us/step - loss: 0.3375 - accuracy: 0.8616\n",
            "Epoch 46/100\n",
            "250/250 [==============================] - 0s 945us/step - loss: 0.3368 - accuracy: 0.8635\n",
            "Epoch 47/100\n",
            "250/250 [==============================] - 0s 975us/step - loss: 0.3367 - accuracy: 0.8627\n",
            "Epoch 48/100\n",
            "250/250 [==============================] - 0s 963us/step - loss: 0.3368 - accuracy: 0.8641\n",
            "Epoch 49/100\n",
            "250/250 [==============================] - 0s 1ms/step - loss: 0.3368 - accuracy: 0.8633\n",
            "Epoch 50/100\n",
            "250/250 [==============================] - 0s 953us/step - loss: 0.3368 - accuracy: 0.8627\n",
            "Epoch 51/100\n",
            "250/250 [==============================] - 0s 926us/step - loss: 0.3365 - accuracy: 0.8626\n",
            "Epoch 52/100\n",
            "250/250 [==============================] - 0s 970us/step - loss: 0.3362 - accuracy: 0.8625\n",
            "Epoch 53/100\n",
            "250/250 [==============================] - 0s 1ms/step - loss: 0.3360 - accuracy: 0.8637\n",
            "Epoch 54/100\n",
            "250/250 [==============================] - 0s 968us/step - loss: 0.3358 - accuracy: 0.8626\n",
            "Epoch 55/100\n",
            "250/250 [==============================] - 0s 922us/step - loss: 0.3356 - accuracy: 0.8648\n",
            "Epoch 56/100\n",
            "250/250 [==============================] - 0s 1ms/step - loss: 0.3352 - accuracy: 0.8655\n",
            "Epoch 57/100\n",
            "250/250 [==============================] - 0s 927us/step - loss: 0.3354 - accuracy: 0.8631\n",
            "Epoch 58/100\n",
            "250/250 [==============================] - 0s 925us/step - loss: 0.3351 - accuracy: 0.8631\n",
            "Epoch 59/100\n",
            "250/250 [==============================] - 0s 1ms/step - loss: 0.3350 - accuracy: 0.8635\n",
            "Epoch 60/100\n",
            "250/250 [==============================] - 0s 1ms/step - loss: 0.3350 - accuracy: 0.8635\n",
            "Epoch 61/100\n",
            "250/250 [==============================] - 0s 942us/step - loss: 0.3349 - accuracy: 0.8625\n",
            "Epoch 62/100\n",
            "250/250 [==============================] - 0s 965us/step - loss: 0.3346 - accuracy: 0.8643\n",
            "Epoch 63/100\n",
            "250/250 [==============================] - 0s 985us/step - loss: 0.3347 - accuracy: 0.8635\n",
            "Epoch 64/100\n",
            "250/250 [==============================] - 0s 1ms/step - loss: 0.3345 - accuracy: 0.8636\n",
            "Epoch 65/100\n",
            "250/250 [==============================] - 0s 956us/step - loss: 0.3343 - accuracy: 0.8629\n",
            "Epoch 66/100\n",
            "250/250 [==============================] - 0s 944us/step - loss: 0.3341 - accuracy: 0.8637\n",
            "Epoch 67/100\n",
            "250/250 [==============================] - 0s 952us/step - loss: 0.3338 - accuracy: 0.8660\n",
            "Epoch 68/100\n",
            "250/250 [==============================] - 0s 1ms/step - loss: 0.3342 - accuracy: 0.8634\n",
            "Epoch 69/100\n",
            "250/250 [==============================] - 0s 943us/step - loss: 0.3344 - accuracy: 0.8631\n",
            "Epoch 70/100\n",
            "250/250 [==============================] - 0s 1ms/step - loss: 0.3342 - accuracy: 0.8627\n",
            "Epoch 71/100\n",
            "250/250 [==============================] - 0s 1ms/step - loss: 0.3338 - accuracy: 0.8643\n",
            "Epoch 72/100\n",
            "250/250 [==============================] - 0s 1ms/step - loss: 0.3336 - accuracy: 0.8648\n",
            "Epoch 73/100\n",
            "250/250 [==============================] - 0s 909us/step - loss: 0.3341 - accuracy: 0.8650\n",
            "Epoch 74/100\n",
            "250/250 [==============================] - 0s 1ms/step - loss: 0.3338 - accuracy: 0.8634\n",
            "Epoch 75/100\n",
            "250/250 [==============================] - 0s 1ms/step - loss: 0.3336 - accuracy: 0.8637\n",
            "Epoch 76/100\n",
            "250/250 [==============================] - 0s 1ms/step - loss: 0.3334 - accuracy: 0.8650\n",
            "Epoch 77/100\n",
            "250/250 [==============================] - 0s 917us/step - loss: 0.3339 - accuracy: 0.8646\n",
            "Epoch 78/100\n",
            "250/250 [==============================] - 0s 972us/step - loss: 0.3335 - accuracy: 0.8644\n",
            "Epoch 79/100\n",
            "250/250 [==============================] - 0s 922us/step - loss: 0.3335 - accuracy: 0.8650\n",
            "Epoch 80/100\n",
            "250/250 [==============================] - 0s 1ms/step - loss: 0.3333 - accuracy: 0.8640\n",
            "Epoch 81/100\n",
            "250/250 [==============================] - 0s 1ms/step - loss: 0.3331 - accuracy: 0.8634\n",
            "Epoch 82/100\n",
            "250/250 [==============================] - 0s 943us/step - loss: 0.3332 - accuracy: 0.8637\n",
            "Epoch 83/100\n",
            "250/250 [==============================] - 0s 1ms/step - loss: 0.3335 - accuracy: 0.8631\n",
            "Epoch 84/100\n",
            "250/250 [==============================] - 0s 1ms/step - loss: 0.3335 - accuracy: 0.8633\n",
            "Epoch 85/100\n",
            "250/250 [==============================] - 0s 913us/step - loss: 0.3331 - accuracy: 0.8637\n",
            "Epoch 86/100\n",
            "250/250 [==============================] - 0s 952us/step - loss: 0.3334 - accuracy: 0.8644\n",
            "Epoch 87/100\n",
            "250/250 [==============================] - 0s 1ms/step - loss: 0.3328 - accuracy: 0.8627\n",
            "Epoch 88/100\n",
            "250/250 [==============================] - 0s 945us/step - loss: 0.3331 - accuracy: 0.8643\n",
            "Epoch 89/100\n",
            "250/250 [==============================] - 0s 992us/step - loss: 0.3331 - accuracy: 0.8636\n",
            "Epoch 90/100\n",
            "250/250 [==============================] - 0s 914us/step - loss: 0.3325 - accuracy: 0.8648\n",
            "Epoch 91/100\n",
            "250/250 [==============================] - 0s 989us/step - loss: 0.3329 - accuracy: 0.8630\n",
            "Epoch 92/100\n",
            "250/250 [==============================] - 0s 952us/step - loss: 0.3327 - accuracy: 0.8631\n",
            "Epoch 93/100\n",
            "250/250 [==============================] - 0s 958us/step - loss: 0.3328 - accuracy: 0.8637\n",
            "Epoch 94/100\n",
            "250/250 [==============================] - 0s 935us/step - loss: 0.3328 - accuracy: 0.8631\n",
            "Epoch 95/100\n",
            "250/250 [==============================] - 0s 1ms/step - loss: 0.3325 - accuracy: 0.8639\n",
            "Epoch 96/100\n",
            "250/250 [==============================] - 0s 973us/step - loss: 0.3326 - accuracy: 0.8641\n",
            "Epoch 97/100\n",
            "250/250 [==============================] - 0s 977us/step - loss: 0.3322 - accuracy: 0.8643\n",
            "Epoch 98/100\n",
            "250/250 [==============================] - 0s 1ms/step - loss: 0.3321 - accuracy: 0.8627\n",
            "Epoch 99/100\n",
            "250/250 [==============================] - 0s 956us/step - loss: 0.3323 - accuracy: 0.8637\n",
            "Epoch 100/100\n",
            "250/250 [==============================] - 0s 999us/step - loss: 0.3323 - accuracy: 0.8641\n"
          ],
          "name": "stdout"
        },
        {
          "output_type": "execute_result",
          "data": {
            "text/plain": [
              "<tensorflow.python.keras.callbacks.History at 0x7f94f5e577b8>"
            ]
          },
          "metadata": {
            "tags": []
          },
          "execution_count": 32
        }
      ]
    },
    {
      "cell_type": "markdown",
      "metadata": {
        "id": "OZU__PHqz9de"
      },
      "source": [
        "# predict train dataset\n"
      ]
    },
    {
      "cell_type": "code",
      "metadata": {
        "colab": {
          "base_uri": "https://localhost:8080/"
        },
        "id": "o1OV4a-axL2Q",
        "outputId": "a6516302-5335-4038-c5dc-5637ecde3c7b"
      },
      "source": [
        "# need to be 2d array/matrix \n",
        "print(ann.predict(sc.transform([[1,0,0,600,1,40,3,60000,2,1,1,50000]])) > 0.5)"
      ],
      "execution_count": null,
      "outputs": [
        {
          "output_type": "stream",
          "text": [
            "[[False]]\n"
          ],
          "name": "stdout"
        }
      ]
    },
    {
      "cell_type": "markdown",
      "metadata": {
        "id": "1IUyEpYr2qfw"
      },
      "source": [
        "# Test Dataset"
      ]
    },
    {
      "cell_type": "code",
      "metadata": {
        "colab": {
          "base_uri": "https://localhost:8080/"
        },
        "id": "5ra0kApw2pvT",
        "outputId": "6342994e-0d48-41f0-de87-60a00135fdb2"
      },
      "source": [
        "y_pred = ann.predict(x_test)\n",
        "y_pred = (y_pred > 0.5)\n",
        "print(np.concatenate((y_pred.reshape(len(y_pred),1),y_test.reshape(len(y_test),1)),1))"
      ],
      "execution_count": null,
      "outputs": [
        {
          "output_type": "stream",
          "text": [
            "[[0 0]\n",
            " [0 1]\n",
            " [0 0]\n",
            " ...\n",
            " [0 0]\n",
            " [0 0]\n",
            " [0 0]]\n"
          ],
          "name": "stdout"
        }
      ]
    },
    {
      "cell_type": "markdown",
      "metadata": {
        "id": "AO0xu7Iq2hRY"
      },
      "source": [
        "# Confusion Matrix"
      ]
    },
    {
      "cell_type": "code",
      "metadata": {
        "colab": {
          "base_uri": "https://localhost:8080/"
        },
        "id": "41vORvjb1yTA",
        "outputId": "d1d1e3c9-4dbb-4385-f908-0228ca2b174e"
      },
      "source": [
        "from sklearn.metrics import confusion_matrix, accuracy_score\n",
        "cm = confusion_matrix(y_test,y_pred)\n",
        "print(cm)\n",
        "accuracy_score(y_test,y_pred)"
      ],
      "execution_count": null,
      "outputs": [
        {
          "output_type": "stream",
          "text": [
            "[[1506   89]\n",
            " [ 194  211]]\n"
          ],
          "name": "stdout"
        },
        {
          "output_type": "execute_result",
          "data": {
            "text/plain": [
              "0.8585"
            ]
          },
          "metadata": {
            "tags": []
          },
          "execution_count": 37
        }
      ]
    },
    {
      "cell_type": "markdown",
      "metadata": {
        "id": "BDi3Ho1d4DiI"
      },
      "source": [
        "prediction \n",
        "1506 correct stays\n",
        "211 correct leaves\n",
        "194 incorrect stays\n",
        "89 incorrect leaves\n"
      ]
    },
    {
      "cell_type": "code",
      "metadata": {
        "id": "NItdMARi3qxv"
      },
      "source": [
        ""
      ],
      "execution_count": null,
      "outputs": []
    }
  ]
}